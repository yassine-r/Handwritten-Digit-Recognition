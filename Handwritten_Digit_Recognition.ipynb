{
  "cells": [
    {
      "cell_type": "code",
      "execution_count": 1,
      "metadata": {
        "id": "xuULLBlI_NG2"
      },
      "outputs": [],
      "source": [
        "import tensorflow as tf\n",
        "import matplotlib.pyplot as plt\n",
        "import numpy as np \n",
        "import pandas as pd\n",
        "import zipfile"
      ]
    },
    {
      "cell_type": "code",
      "execution_count": 43,
      "metadata": {
        "id": "y8ftfvRUA7f-"
      },
      "outputs": [],
      "source": [
        "with zipfile.ZipFile(\"datasets/train.csv.zip\", 'r') as zip_ref:\n",
        "    zip_ref.extractall(\"datasets\")\n",
        "\n",
        "with zipfile.ZipFile(\"datasets/test.csv.zip\", 'r') as zip_ref:\n",
        "    zip_ref.extractall(\"datasets\")"
      ]
    },
    {
      "cell_type": "code",
      "execution_count": 44,
      "metadata": {
        "id": "PhaQTSHO_P-_"
      },
      "outputs": [],
      "source": [
        "# Loading dataset\n",
        "train = pd.read_csv('datasets/train.csv')\n",
        "test = pd.read_csv('datasets/test.csv')"
      ]
    },
    {
      "cell_type": "code",
      "execution_count": 45,
      "metadata": {
        "colab": {
          "base_uri": "https://localhost:8080/"
        },
        "id": "aN4C_xeMAYCj",
        "outputId": "a6f53bcd-ffbb-4fee-b26d-574d89af8879"
      },
      "outputs": [
        {
          "name": "stdout",
          "output_type": "stream",
          "text": [
            "train: (42000, 785)\n",
            "test: (28000, 784)\n"
          ]
        }
      ],
      "source": [
        "print('train:', train.shape)\n",
        "print('test:', test.shape)\n",
        "X = train.iloc[:, 1:785]\n",
        "y = train.iloc[:, 0]\n",
        "X_test = test.iloc[:, 0:784]"
      ]
    },
    {
      "cell_type": "code",
      "execution_count": 46,
      "metadata": {
        "id": "NzfrLDcvAYTD"
      },
      "outputs": [],
      "source": [
        "from sklearn.model_selection import train_test_split\n",
        "X_train, X_validation, y_train, y_validation = train_test_split(X, y, test_size = 0.2,random_state = 1212)"
      ]
    },
    {
      "cell_type": "code",
      "execution_count": 47,
      "metadata": {
        "colab": {
          "base_uri": "https://localhost:8080/"
        },
        "id": "khQoAVWPClKI",
        "outputId": "e397e7f2-b672-4d2b-8c07-9729997623d0"
      },
      "outputs": [
        {
          "name": "stdout",
          "output_type": "stream",
          "text": [
            "X_train: (33600, 784)\n",
            "y_train: (33600,)\n",
            "X_validation: (8400, 784)\n",
            "y_validation: (8400,)\n"
          ]
        }
      ],
      "source": [
        "print('X_train:', X_train.shape)\n",
        "print('y_train:', y_train.shape)\n",
        "print('X_validation:', X_validation.shape)\n",
        "print('y_validation:', y_validation.shape)"
      ]
    },
    {
      "cell_type": "code",
      "execution_count": 48,
      "metadata": {
        "id": "p5VnwST0Cphq"
      },
      "outputs": [],
      "source": [
        "x_train_re = X_train.to_numpy().reshape(33600, 28, 28)\n",
        "y_train_re = y_train.values\n",
        "x_validation_re = X_validation.to_numpy().reshape(8400, 28, 28)\n",
        "y_validation_re = y_validation.values\n",
        "x_test_re = test.to_numpy().reshape(28000, 28, 28)"
      ]
    },
    {
      "cell_type": "code",
      "execution_count": 49,
      "metadata": {
        "colab": {
          "base_uri": "https://localhost:8080/",
          "height": 262
        },
        "id": "s1s2QAfQdEeB",
        "outputId": "1b599160-da1c-41c5-d29d-c7d878836bc7"
      },
      "outputs": [
        {
          "data": {
            "image/png": "[encoded data removed]",
            "text/plain": [
              "<Figure size 288x288 with 1 Axes>"
            ]
          },
          "metadata": {},
          "output_type": "display_data"
        }
      ],
      "source": [
        "i=100\n",
        "plt.figure(figsize=(4,4))\n",
        "plt.xticks([])\n",
        "plt.yticks([])\n",
        "plt.grid(False)\n",
        "plt.imshow(x_train_re[i], cmap=plt.cm.binary)\n",
        "plt.xlabel(y_train_re[i])\n",
        "plt.show()"
      ]
    },
    {
      "cell_type": "code",
      "execution_count": 50,
      "metadata": {
        "id": "PgWZyOHNDS0_"
      },
      "outputs": [],
      "source": [
        "(_, IMAGE_WIDTH, IMAGE_HEIGHT) = x_train_re.shape\n",
        "IMAGE_CHANNELS = 1"
      ]
    },
    {
      "cell_type": "code",
      "execution_count": 51,
      "metadata": {
        "colab": {
          "base_uri": "https://localhost:8080/"
        },
        "id": "6_RORalZbdmg",
        "outputId": "b8305c06-1973-4dff-ee41-7895bca530c6"
      },
      "outputs": [
        {
          "name": "stdout",
          "output_type": "stream",
          "text": [
            "x_train_with_chanels: (33600, 28, 28, 1)\n",
            "x_validation_with_chanels: (8400, 28, 28, 1)\n",
            "x_test_with_chanels: (28000, 28, 28, 1)\n"
          ]
        }
      ],
      "source": [
        "x_train_with_chanels = x_train_re.reshape(\n",
        "    x_train_re.shape[0],\n",
        "    IMAGE_WIDTH,\n",
        "    IMAGE_HEIGHT,\n",
        "    IMAGE_CHANNELS\n",
        ")\n",
        "x_validation_with_chanels = x_validation_re.reshape(\n",
        "    x_validation_re.shape[0],\n",
        "    IMAGE_WIDTH,\n",
        "    IMAGE_HEIGHT,\n",
        "    IMAGE_CHANNELS\n",
        ")\n",
        "x_test_with_chanels = x_test_re.reshape(\n",
        "    x_test_re.shape[0],\n",
        "    IMAGE_WIDTH,\n",
        "    IMAGE_HEIGHT,\n",
        "    IMAGE_CHANNELS\n",
        ")\n",
        "print('x_train_with_chanels:', x_train_with_chanels.shape)\n",
        "print('x_validation_with_chanels:', x_validation_with_chanels.shape)\n",
        "print('x_test_with_chanels:', x_test_with_chanels.shape)"
      ]
    },
    {
      "cell_type": "code",
      "execution_count": 52,
      "metadata": {
        "id": "-F5iChjyd9II"
      },
      "outputs": [],
      "source": [
        "x_train_normalized = x_train_with_chanels / 255\n",
        "x_validation_normalized = x_validation_with_chanels / 255\n",
        "x_test_normalized = x_test_with_chanels / 255"
      ]
    },
    {
      "cell_type": "code",
      "execution_count": 53,
      "metadata": {
        "id": "5VLH-k4qewFc"
      },
      "outputs": [],
      "source": [
        "model = tf.keras.models.Sequential()\n",
        "model.add(tf.keras.layers.Convolution2D(\n",
        "    input_shape=(IMAGE_WIDTH, IMAGE_HEIGHT, IMAGE_CHANNELS),\n",
        "    kernel_size=5,\n",
        "    filters=8,\n",
        "    strides=1,\n",
        "    activation=tf.keras.activations.relu,\n",
        "    kernel_initializer=tf.keras.initializers.VarianceScaling()\n",
        "))\n",
        "model.add(tf.keras.layers.MaxPooling2D(\n",
        "    pool_size=(2, 2),\n",
        "    strides=(2, 2)\n",
        "))\n",
        "model.add(tf.keras.layers.Convolution2D(\n",
        "    kernel_size=5,\n",
        "    filters=16,\n",
        "    strides=1,\n",
        "    activation=tf.keras.activations.relu,\n",
        "    kernel_initializer=tf.keras.initializers.VarianceScaling()\n",
        "))\n",
        "model.add(tf.keras.layers.MaxPooling2D(\n",
        "    pool_size=(2, 2),\n",
        "    strides=(2, 2)\n",
        "))\n",
        "model.add(tf.keras.layers.Flatten())\n",
        "model.add(tf.keras.layers.Dense(\n",
        "    units=128,\n",
        "    activation=tf.keras.activations.relu\n",
        "));\n",
        "model.add(tf.keras.layers.Dropout(0.2))\n",
        "model.add(tf.keras.layers.Dense(\n",
        "    units=10,\n",
        "    activation=tf.keras.activations.softmax,\n",
        "    kernel_initializer=tf.keras.initializers.VarianceScaling()\n",
        "))"
      ]
    },
    {
      "cell_type": "code",
      "execution_count": 54,
      "metadata": {
        "id": "nytMaFXlhXce"
      },
      "outputs": [],
      "source": [
        "adam_optimizer = tf.keras.optimizers.Adam(learning_rate=0.001)\n",
        "model.compile(\n",
        "    optimizer=adam_optimizer,\n",
        "    loss=tf.keras.losses.sparse_categorical_crossentropy,\n",
        "    metrics=['accuracy']\n",
        ")"
      ]
    },
    {
      "cell_type": "code",
      "execution_count": 55,
      "metadata": {
        "colab": {
          "base_uri": "https://localhost:8080/"
        },
        "id": "hvHwWperhfWR",
        "outputId": "9b73611c-8ba3-4826-bb81-e8596026fef6"
      },
      "outputs": [
        {
          "name": "stdout",
          "output_type": "stream",
          "text": [
            "Epoch 1/10\n",
            "1050/1050 [==============================] - 19s 17ms/step - loss: 0.2916 - accuracy: 0.9097 - val_loss: 0.0883 - val_accuracy: 0.9735\n",
            "Epoch 2/10\n",
            "1050/1050 [==============================] - 19s 18ms/step - loss: 0.0929 - accuracy: 0.9718 - val_loss: 0.0652 - val_accuracy: 0.9801\n",
            "Epoch 3/10\n",
            "1050/1050 [==============================] - 17s 16ms/step - loss: 0.0645 - accuracy: 0.9803 - val_loss: 0.0616 - val_accuracy: 0.9815\n",
            "Epoch 4/10\n",
            "1050/1050 [==============================] - 17s 16ms/step - loss: 0.0517 - accuracy: 0.9837 - val_loss: 0.0599 - val_accuracy: 0.9823\n",
            "Epoch 5/10\n",
            "1050/1050 [==============================] - 17s 16ms/step - loss: 0.0415 - accuracy: 0.9870 - val_loss: 0.0522 - val_accuracy: 0.9856\n",
            "Epoch 6/10\n",
            "1050/1050 [==============================] - 17s 16ms/step - loss: 0.0372 - accuracy: 0.9881 - val_loss: 0.0510 - val_accuracy: 0.9852\n",
            "Epoch 7/10\n",
            "1050/1050 [==============================] - 19s 18ms/step - loss: 0.0295 - accuracy: 0.9908 - val_loss: 0.0508 - val_accuracy: 0.9880\n",
            "Epoch 8/10\n",
            "1050/1050 [==============================] - 17s 16ms/step - loss: 0.0272 - accuracy: 0.9909 - val_loss: 0.0545 - val_accuracy: 0.9843\n",
            "Epoch 9/10\n",
            "1050/1050 [==============================] - 17s 16ms/step - loss: 0.0226 - accuracy: 0.9924 - val_loss: 0.0533 - val_accuracy: 0.9852\n",
            "Epoch 10/10\n",
            "1050/1050 [==============================] - 17s 16ms/step - loss: 0.0209 - accuracy: 0.9930 - val_loss: 0.0515 - val_accuracy: 0.9867\n",
            "The model has successfully trained\n"
          ]
        }
      ],
      "source": [
        "training_history = model.fit(\n",
        "    x_train_normalized,\n",
        "    y_train_re,\n",
        "    epochs=10,\n",
        "    validation_data=(x_validation_normalized, y_validation_re))\n",
        "print(\"The model has successfully trained\")"
      ]
    },
    {
      "cell_type": "code",
      "execution_count": 56,
      "metadata": {
        "colab": {
          "base_uri": "https://localhost:8080/",
          "height": 297
        },
        "id": "LVsi3Odfhkrj",
        "outputId": "83acbb9a-2974-4504-b992-8a9e1e7cdb81"
      },
      "outputs": [
        {
          "data": {
            "text/plain": [
              "<matplotlib.legend.Legend at 0x7f80cee7aa10>"
            ]
          },
          "execution_count": 56,
          "metadata": {},
          "output_type": "execute_result"
        },
        {
          "data": {
            "image/png": "[encoded data removed]",
            "text/plain": [
              "<Figure size 432x288 with 1 Axes>"
            ]
          },
          "metadata": {
            "needs_background": "light"
          },
          "output_type": "display_data"
        }
      ],
      "source": [
        "plt.xlabel('Epoch Number')\n",
        "plt.ylabel('Accuracy')\n",
        "plt.plot(training_history.history['loss'], label='training set')\n",
        "plt.plot(training_history.history['val_loss'], label='validation set')\n",
        "plt.legend()"
      ]
    },
    {
      "cell_type": "code",
      "execution_count": 57,
      "metadata": {
        "colab": {
          "base_uri": "https://localhost:8080/",
          "height": 296
        },
        "id": "kFRAEt-jjC_R",
        "outputId": "b0fe3ec0-7576-424f-8635-73a5ca5b5046"
      },
      "outputs": [
        {
          "data": {
            "text/plain": [
              "<matplotlib.legend.Legend at 0x7f80cf016110>"
            ]
          },
          "execution_count": 57,
          "metadata": {},
          "output_type": "execute_result"
        },
        {
          "data": {
            "image/png": "[encoded data removed]",
            "text/plain": [
              "<Figure size 432x288 with 1 Axes>"
            ]
          },
          "metadata": {
            "needs_background": "light"
          },
          "output_type": "display_data"
        }
      ],
      "source": [
        "plt.xlabel('Epoch Number')\n",
        "plt.ylabel('Accuracy')\n",
        "plt.plot(training_history.history['accuracy'], label='training set')\n",
        "plt.plot(training_history.history['val_accuracy'], label='validation set')\n",
        "plt.legend()"
      ]
    },
    {
      "cell_type": "code",
      "execution_count": 58,
      "metadata": {
        "id": "P_1gsC2yjGz7"
      },
      "outputs": [],
      "source": [
        "model_name = 'digits_recognition_cnn.h5'\n",
        "model.save(model_name, save_format='h5')"
      ]
    },
    {
      "cell_type": "code",
      "execution_count": 59,
      "metadata": {
        "id": "g5cO3Uv5knpn"
      },
      "outputs": [],
      "source": [
        "loaded_model = tf.keras.models.load_model(model_name)"
      ]
    }
  ],
  "metadata": {
    "colab": {
      "collapsed_sections": [],
      "name": "Handwritten-Digit-Recognition.ipynb",
      "provenance": []
    },
    "kernelspec": {
      "display_name": "Python 3",
      "name": "python3"
    },
    "language_info": {
      "name": "python"
    }
  },
  "nbformat": 4,
  "nbformat_minor": 0
}
